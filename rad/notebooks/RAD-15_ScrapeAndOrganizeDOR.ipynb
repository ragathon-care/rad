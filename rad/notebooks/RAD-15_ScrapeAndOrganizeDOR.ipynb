{
 "cells": [
  {
   "cell_type": "markdown",
   "metadata": {},
   "source": [
    "### Notes\n",
    " Here, I want to take a stab at scraping and organizing the DOR website"
   ]
  },
  {
   "cell_type": "code",
   "execution_count": null,
   "metadata": {
    "vscode": {
     "languageId": "plaintext"
    }
   },
   "outputs": [],
   "source": [
    "Website: \n",
    "* https://www.dor.ca.gov/\n",
    "\n",
    "Loose inspirations: \n",
    "* Perplexity \n",
    "* Glean \n",
    "* Diffbot \n",
    "\n",
    "Stricter inspirations: \n",
    "* https://llamahub.ai/l/web-sitemap?from=all\n",
    "* https://llamahub.ai/l/web-whole_site?from=all\n",
    "\n",
    "https://blog.llamaindex.ai/ragarch-building-a-no-code-rag-pipeline-configuration-one-click-rag-code-generation-tool-powered-b6e8eeb70089\n",
    "https://christophergs.com/blog/ai-engineering-retrieval-augmented-generation-rag-llama-index\n",
    "https://github.com/run-llama/llamabot\n",
    "\n",
    "structured hierarchical retriever \n",
    "https://docs.llamaindex.ai/en/stable/examples/query_engine/multi_doc_auto_retrieval/multi_doc_auto_retrieval.html\n",
    "https://medium.com/enterprise-rag/injecting-knowledge-graphs-in-different-rag-stages-a3cd1221f57b\n",
    "\n",
    "https://github.com/cpacker/MemGPT\n",
    "\n",
    "contextchatengine\n",
    "\n",
    "https://jasonwebster.dev/blog/chatting-to-a-website-with-langchain-openai-and-chromadb\n"
   ]
  },
  {
   "cell_type": "code",
   "execution_count": null,
   "metadata": {
    "vscode": {
     "languageId": "plaintext"
    }
   },
   "outputs": [],
   "source": [
    "https://www.anyscale.com/blog/a-comprehensive-guide-for-building-rag-based-llm-applications-part-1"
   ]
  },
  {
   "cell_type": "code",
   "execution_count": null,
   "metadata": {
    "vscode": {
     "languageId": "plaintext"
    }
   },
   "outputs": [],
   "source": [
    "# build a dataset of \n",
    "\n",
    "# paths of all pages on the website \n",
    "\n",
    "# robots.txt on cal.gov allwos scraping! great! \n",
    "\n",
    "# step 1) Run web spider over DoR.gov \n"
   ]
  },
  {
   "cell_type": "code",
   "execution_count": null,
   "metadata": {
    "vscode": {
     "languageId": "plaintext"
    }
   },
   "outputs": [],
   "source": [
    "# okay so..... let's see what to start from... and then move on from there... "
   ]
  }
 ],
 "metadata": {
  "language_info": {
   "name": "python"
  }
 },
 "nbformat": 4,
 "nbformat_minor": 2
}
