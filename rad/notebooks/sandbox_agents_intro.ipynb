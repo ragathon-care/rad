{
 "cells": [
  {
   "cell_type": "markdown",
   "metadata": {},
   "source": [
    "# Plan"
   ]
  },
  {
   "cell_type": "markdown",
   "metadata": {},
   "source": [
    "In this notebook, we will... \n",
    "* Play with llama index tutorials "
   ]
  },
  {
   "cell_type": "markdown",
   "metadata": {},
   "source": [
    "# Tutorials"
   ]
  },
  {
   "cell_type": "code",
   "execution_count": null,
   "metadata": {},
   "outputs": [],
   "source": [
    "### Routers ###\n",
    "\n",
    "## pattern\n",
    "# define different query engines of interest \n",
    "tool1 = QueryEngineTool... \n",
    "tool2 = QueryEngineTool...\n",
    "\n",
    "# pipe into a routerqueryengine tool \n",
    "query_engine = RouterQueryEngine(selector=..., \n",
    "                                 query_engine_tools=[tool1, tool2]) \n",
    "\n",
    "# ask a query \n",
    "query_engine.query(...)\n",
    "\n",
    "## internals \n",
    "\n",
    "## some options\n",
    "# RouterRetriever\n",
    "# LLMSingleSelector to choose from an arbitrary list (basically search on keys, get val back)"
   ]
  },
  {
   "cell_type": "code",
   "execution_count": null,
   "metadata": {},
   "outputs": [],
   "source": [
    "### Query transformations \n",
    "\n",
    "## some options\n",
    "# HyDE\n",
    "# Single step decomposition - TransformQueryEngine - transforms a query in the context of a given engine over a set of engines\n",
    "# Multi step decomposition - MultiStepQueryEngine\n",
    "\n",
    "## Single step pattern \n",
    "# "
   ]
  },
  {
   "cell_type": "code",
   "execution_count": null,
   "metadata": {},
   "outputs": [],
   "source": [
    "### Prebaked Agents ### \n",
    "# agent_runner.ipynb is great\n",
    "\n",
    "# https://github.com/run-llama/llama_index/blob/main/docs/examples/agent/agent_runner/agent_runner.ipynb\n",
    "\n",
    "# https://github.com/run-llama/llama_index/blob/main/docs/examples/agent/agent_runner/query_pipeline_agent.ipynb\n",
    "\n",
    "## pattern \n",
    "# define tools \n",
    "# pop onto agent \n",
    "# let it run! \n",
    "\n",
    "## some options \n",
    "# openai agent \n",
    "# rag agent - different db engines as tools \n",
    "# custom agent - create a chain / dag with custom pieces of the pipe "
   ]
  },
  {
   "cell_type": "markdown",
   "metadata": {},
   "source": [
    "# questions\n",
    "* how do we orchestrate llama index agents (if we want or need to) \n",
    "\n",
    "# reflections\n",
    "* llama index agents are probably sufficient for routing workflows \n",
    "\n"
   ]
  }
 ],
 "metadata": {
  "kernelspec": {
   "display_name": "py-hack-li",
   "language": "python",
   "name": "python3"
  },
  "language_info": {
   "codemirror_mode": {
    "name": "ipython",
    "version": 3
   },
   "file_extension": ".py",
   "mimetype": "text/x-python",
   "name": "python",
   "nbconvert_exporter": "python",
   "pygments_lexer": "ipython3",
   "version": "3.12.1"
  }
 },
 "nbformat": 4,
 "nbformat_minor": 2
}
