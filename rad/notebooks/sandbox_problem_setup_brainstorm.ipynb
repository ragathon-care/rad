{
 "cells": [
  {
   "cell_type": "markdown",
   "metadata": {},
   "source": [
    "### we have a few \"agents\" that we want available to us \n",
    "\n",
    "### first agent of interest - digest disability pdfs somehow\n"
   ]
  },
  {
   "cell_type": "markdown",
   "metadata": {},
   "source": [
    "### Steps\n",
    "* Define agent of interest \n",
    "    * Persona \n",
    "    * Tools \n",
    "    * Interfaces\n",
    "    * Cognitive Capabilities \n",
    "\n",
    "* Define sample data \n",
    "\n",
    "* Hook it up "
   ]
  },
  {
   "cell_type": "code",
   "execution_count": null,
   "metadata": {},
   "outputs": [],
   "source": [
    "'''\n",
    "Agent 1: Digests disability pdfs and puts into context \n",
    "Agent 2: Talk with the pdfs of interest \n",
    "''' "
   ]
  },
  {
   "cell_type": "code",
   "execution_count": null,
   "metadata": {},
   "outputs": [],
   "source": [
    "# let's say that we've scraped the web for disabilities resources \n",
    "Disabilities SSI - https://www.ssa.gov/forms/ssa-3820.pdf\n",
    "\n",
    "\n",
    "# now how do we get to the pdfs \n",
    "https://ca.db101.org/ca/situations/youthanddisability/education/program2d.htm\n",
    "\n",
    "# department of rehab\n",
    "https://www.dor.ca.gov/\n",
    "\n",
    "# Disability or reason for IEP / 504 eligibility \n",
    "IEP  - 504 Plan - School Signature\n",
    "https://publicaccessstorage.blob.core.usgovcloudapi.net/publicsitefiles/DOR%20Documents/Forms/DR203%20Student%20Services%20Plan%20Request.pdf\n",
    "\n",
    "\n",
    "# who is eligible? IEP for one of 13 specific criteria\n",
    "https://edsource.org/2022/parents-guide-to-504-plans-and-ieps-what-they-are-and-how-theyre-different/669493#:~:text=What's%20the%20difference%3F,Both%20are%20free.\n",
    "\n",
    "# \n",
    "https://www.smcoe.org/about/san-mateo-county-selpa/\n",
    "\n",
    "# how is a disability verified? \n",
    "# what counts as required documentation regarding the disability \n",
    "# for example, https://collegeofsanmateo.edu/dsps/rightsandresponsibilities.asp\n",
    "# counseling exists for educational planning \n",
    "\n",
    "# https://www.dor.ca.gov/Home/OCB\n",
    "\n",
    "\n",
    "# This is who I am... \n",
    "# What are the kinds of resources that can help me?\n",
    "# Please walk me through. \n",
    "# \n",
    "\n",
    "# Section 504 - ADA - should have a free appropriate public education \n",
    "\n",
    "# Child Find \n",
    "# FAPE - free appropriate public education \n",
    "# due process - right to participation \n",
    "# IEP - individualized educational planning \n",
    "\n",
    "# The people who can help are SELPAs - selpa administrator\n"
   ]
  },
  {
   "cell_type": "code",
   "execution_count": null,
   "metadata": {},
   "outputs": [],
   "source": [
    "# portions of the DOR website indexed \n",
    "# have a team of tailored agents alongside you as you brows the website \n",
    "# ask questions about resources from the ca department of rehab website \n",
    "# try to underestand pdfs and word docs n stuff "
   ]
  },
  {
   "cell_type": "code",
   "execution_count": null,
   "metadata": {},
   "outputs": [],
   "source": [
    "# create and store a list of professionals that might be useful \n",
    "# for each professional, include a summary of their role and how they can help \n",
    "\n",
    "# when a user asks a question, it'd be cool if each of these professionals can provide a response \n",
    "# and then something digs into each of their answers \n",
    "\n",
    "# so, one knowledge base \n",
    "# and then different metadata views on the knowledge base \n",
    "# with pdf understanding as well \n",
    "\n",
    "# i'm not sure where to start with this resource... \n",
    "# what are the kinds of resources that can help me? \n",
    "\n",
    "# well, start by telling me about yourself \n"
   ]
  },
  {
   "cell_type": "code",
   "execution_count": null,
   "metadata": {},
   "outputs": [],
   "source": []
  }
 ],
 "metadata": {
  "kernelspec": {
   "display_name": "py-hack-li",
   "language": "python",
   "name": "python3"
  },
  "language_info": {
   "name": "python",
   "version": "3.12.1"
  }
 },
 "nbformat": 4,
 "nbformat_minor": 2
}
